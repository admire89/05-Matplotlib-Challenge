{
 "cells": [
  {
   "cell_type": "code",
   "execution_count": null,
   "id": "b64893ed",
   "metadata": {},
   "outputs": [],
   "source": []
  },
  {
   "cell_type": "markdown",
   "id": "ebbf8425",
   "metadata": {},
   "source": [
    "Prepare the Data\n",
    "\n",
    "Run the provided package dependency and data imports, and then merge the mouse_metadata and study_results DataFrames into a single DataFrame.\n",
    "\n",
    "Display the number of unique mice IDs in the data, and then check for any mouse ID with duplicate time points. Display the data associated with that mouse ID, and then create a new DataFrame where this data is removed. Use this cleaned DataFrame for the remaining steps.\n",
    "\n",
    "Display the updated number of unique mice IDs.\n"
   ]
  },
  {
   "cell_type": "code",
   "execution_count": null,
   "id": "7d203d4e",
   "metadata": {},
   "outputs": [],
   "source": []
  },
  {
   "cell_type": "markdown",
   "id": "379d97d7",
   "metadata": {},
   "source": [
    "Generate Summary Statistics\n",
    "Create two summary statistics DataFrames:\n",
    "\n",
    "For the first DataFrame, use the groupby method to generate the mean, median, variance, standard deviation, and SEM of the tumor volume for each drug regimen. This should result in five unique Series objects. Combine these objects into a single summary statistics DataFrame.\n",
    "\n",
    "For the second DataFrame, use the agg method to produce the same summary statistics table by using a single line of code."
   ]
  },
  {
   "cell_type": "code",
   "execution_count": null,
   "id": "3b8a10a2",
   "metadata": {},
   "outputs": [],
   "source": []
  },
  {
   "cell_type": "markdown",
   "id": "57aa5d97",
   "metadata": {},
   "source": [
    "Create Bar Charts and Pie Charts\n",
    "Generate two bar charts. Both charts should be identical and show the total number of time points for all mice tested for each drug regimen throughout the study.\n",
    "\n",
    "Create the first bar chart with the Pandas DataFrame.plot() method.\n",
    "\n",
    "Create the second bar chart with Matplotlib's pyplot methods.\n",
    "\n",
    "Generate two pie charts. Both charts should be identical and show the distribution of female versus male mice in the study.\n",
    "\n",
    "Create the first pie chart with the Pandas DataFrame.plot() method.\n",
    "\n",
    "Create the second pie chart with Matplotlib's pyplot methods."
   ]
  },
  {
   "cell_type": "code",
   "execution_count": null,
   "id": "fdb5339e",
   "metadata": {},
   "outputs": [],
   "source": []
  },
  {
   "cell_type": "markdown",
   "id": "e9da0328",
   "metadata": {},
   "source": [
    "Calculate Quartiles, Find Outliers, and Create a Box Plot\n",
    "Calculate the final tumor volume of each mouse across four of the most promising treatment regimens: Capomulin, Ramicane, Infubinol, and Ceftamin. Then, calculate the quartiles and IQR, and determine if there are any potential outliers across all four treatment regimens. Use the following substeps:\n",
    "\n",
    "Create a grouped DataFrame that shows the last (greatest) time point for each mouse. Merge this grouped DataFrame with the original cleaned DataFrame.\n",
    "\n",
    "Create a list that holds the treatment names as well as a second, empty list to hold the tumor volume data.\n",
    "\n",
    "Loop through each drug in the treatment list, locating the rows in the merged DataFrame that correspond to each treatment. Append the resulting final tumor volumes for each drug to the empty list.\n",
    "\n",
    "Determine outliers by using the upper and lower bounds, and then print the results.\n",
    "\n",
    "Using Matplotlib, generate a box plot of the final tumor volume for all four treatment regimens. Highlight any potential outliers in the plot by changing their color and style.\n",
    "\n",
    "Hint: All four box plots should be within the same figure. Use this Matplotlib documentation page (Links to an external site.) for help with changing the style of the outliers."
   ]
  },
  {
   "cell_type": "code",
   "execution_count": null,
   "id": "c0c674de",
   "metadata": {},
   "outputs": [],
   "source": []
  },
  {
   "cell_type": "markdown",
   "id": "5da6cc4b",
   "metadata": {},
   "source": [
    "Create a Line Plot and a Scatter Plot\n",
    "Select a mouse that was treated with Capomulin, and generate a line plot of tumor volume versus time point for that mouse.\n",
    "\n",
    "Generate a scatter plot of tumor volume versus mouse weight for the Capomulin treatment regimen."
   ]
  },
  {
   "cell_type": "code",
   "execution_count": null,
   "id": "4d4192d2",
   "metadata": {},
   "outputs": [],
   "source": []
  },
  {
   "cell_type": "markdown",
   "id": "85eb6417",
   "metadata": {},
   "source": [
    "Calculate Correlation and Regression\n",
    "Calculate the correlation coefficient and linear regression model between mouse weight and average tumor volume for the Capomulin treatment.\n",
    "\n",
    "Plot the linear regression model on top of the previous scatter plot.\n",
    "\n"
   ]
  },
  {
   "cell_type": "code",
   "execution_count": null,
   "id": "9bfd0fe9",
   "metadata": {},
   "outputs": [],
   "source": []
  },
  {
   "cell_type": "markdown",
   "id": "99221362",
   "metadata": {},
   "source": [
    "Submission\n",
    "Review all the figures and tables that you generated in this assignment. Write at least three observations or inferences that can be made from the data. Include these observations at the top of your notebook."
   ]
  },
  {
   "cell_type": "code",
   "execution_count": null,
   "id": "ce347119",
   "metadata": {},
   "outputs": [],
   "source": []
  },
  {
   "cell_type": "code",
   "execution_count": null,
   "id": "3c5a05b9",
   "metadata": {},
   "outputs": [],
   "source": []
  }
 ],
 "metadata": {
  "kernelspec": {
   "display_name": "Python 3 (ipykernel)",
   "language": "python",
   "name": "python3"
  },
  "language_info": {
   "codemirror_mode": {
    "name": "ipython",
    "version": 3
   },
   "file_extension": ".py",
   "mimetype": "text/x-python",
   "name": "python",
   "nbconvert_exporter": "python",
   "pygments_lexer": "ipython3",
   "version": "3.9.12"
  }
 },
 "nbformat": 4,
 "nbformat_minor": 5
}
